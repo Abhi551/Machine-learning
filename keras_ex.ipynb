{
  "nbformat": 4,
  "nbformat_minor": 0,
  "metadata": {
    "colab": {
      "name": "keras_ex.ipynb",
      "version": "0.3.2",
      "provenance": [],
      "collapsed_sections": []
    },
    "kernelspec": {
      "name": "python3",
      "display_name": "Python 3"
    }
  },
  "cells": [
    {
      "metadata": {
        "id": "p5rIwoQK9QiS",
        "colab_type": "code",
        "outputId": "c22ab801-4527-4224-dfd4-4694d064acbc",
        "colab": {
          "base_uri": "https://localhost:8080/",
          "height": 34
        }
      },
      "cell_type": "code",
      "source": [
        "import keras "
      ],
      "execution_count": 0,
      "outputs": [
        {
          "output_type": "stream",
          "text": [
            "Using TensorFlow backend.\n"
          ],
          "name": "stderr"
        }
      ]
    },
    {
      "metadata": {
        "id": "uXNlNywm9S42",
        "colab_type": "code",
        "colab": {}
      },
      "cell_type": "code",
      "source": [
        "from keras.models import Sequential \n",
        "from keras.layers import Dense , Activation,Dropout\n",
        "from keras.optimizers import SGD"
      ],
      "execution_count": 0,
      "outputs": []
    },
    {
      "metadata": {
        "id": "Yk-WQOuQ9kFV",
        "colab_type": "code",
        "colab": {}
      },
      "cell_type": "code",
      "source": [
        "import numpy as np\n",
        "x_train = np.random.random((1000, 20))\n",
        "# converts class vectors to binary class\n",
        "y_train = keras.utils.to_categorical(np.random.randint(10, size=(1000, 1)), num_classes=10)\n",
        "x_test = np.random.random((100, 20))\n",
        "y_test = keras.utils.to_categorical(np.random.randint(10, size=(100, 1)), num_classes=10)"
      ],
      "execution_count": 0,
      "outputs": []
    },
    {
      "metadata": {
        "id": "37rWR4iI-rUa",
        "colab_type": "code",
        "colab": {}
      },
      "cell_type": "code",
      "source": [
        "model = Sequential()"
      ],
      "execution_count": 0,
      "outputs": []
    },
    {
      "metadata": {
        "id": "XPvjXPiT-04F",
        "colab_type": "code",
        "colab": {}
      },
      "cell_type": "code",
      "source": [
        "model.add(Dense(64 ,activation = 'relu' , input_dim = 20))\n",
        "model.add(Dropout(.5))\n",
        "model.add(Dense(64, activation = 'relu'))\n",
        "model.add(Dropout(.5))\n",
        "model.add(Dense(10,activation = 'softmax'))"
      ],
      "execution_count": 0,
      "outputs": []
    },
    {
      "metadata": {
        "id": "YjTzNbdUTYtj",
        "colab_type": "code",
        "colab": {}
      },
      "cell_type": "code",
      "source": [
        "sgd = SGD(lr=0.01, decay=1e-6, momentum=0.9, nesterov=True)\n",
        "model.compile(loss = 'categorical_crossentropy', optimizer = sgd , metrics = ['accuracy'])"
      ],
      "execution_count": 0,
      "outputs": []
    },
    {
      "metadata": {
        "id": "scCYL80yT845",
        "colab_type": "code",
        "outputId": "d4dadc15-b5d5-47e2-dc17-ac5b40a2832c",
        "colab": {
          "base_uri": "https://localhost:8080/",
          "height": 776
        }
      },
      "cell_type": "code",
      "source": [
        "model.fit(x_train , y_train , epochs = 20 , batch_size = 128)"
      ],
      "execution_count": 0,
      "outputs": [
        {
          "output_type": "stream",
          "text": [
            "WARNING:tensorflow:From /usr/local/lib/python3.6/dist-packages/tensorflow/python/ops/math_ops.py:3066: to_int32 (from tensorflow.python.ops.math_ops) is deprecated and will be removed in a future version.\n",
            "Instructions for updating:\n",
            "Use tf.cast instead.\n",
            "Epoch 1/20\n",
            "1000/1000 [==============================] - 1s 757us/step - loss: 2.3008 - acc: 0.1090\n",
            "Epoch 2/20\n",
            "1000/1000 [==============================] - 0s 29us/step - loss: 2.3029 - acc: 0.1220\n",
            "Epoch 3/20\n",
            "1000/1000 [==============================] - 0s 29us/step - loss: 2.3006 - acc: 0.1140\n",
            "Epoch 4/20\n",
            "1000/1000 [==============================] - 0s 30us/step - loss: 2.2982 - acc: 0.1210\n",
            "Epoch 5/20\n",
            "1000/1000 [==============================] - 0s 31us/step - loss: 2.3001 - acc: 0.1280\n",
            "Epoch 6/20\n",
            "1000/1000 [==============================] - 0s 29us/step - loss: 2.3003 - acc: 0.1320\n",
            "Epoch 7/20\n",
            "1000/1000 [==============================] - 0s 28us/step - loss: 2.3007 - acc: 0.1280\n",
            "Epoch 8/20\n",
            "1000/1000 [==============================] - 0s 27us/step - loss: 2.2972 - acc: 0.1170\n",
            "Epoch 9/20\n",
            "1000/1000 [==============================] - 0s 27us/step - loss: 2.2959 - acc: 0.1240\n",
            "Epoch 10/20\n",
            "1000/1000 [==============================] - 0s 28us/step - loss: 2.2973 - acc: 0.1310\n",
            "Epoch 11/20\n",
            "1000/1000 [==============================] - 0s 28us/step - loss: 2.2981 - acc: 0.1280\n",
            "Epoch 12/20\n",
            "1000/1000 [==============================] - 0s 28us/step - loss: 2.2991 - acc: 0.1260\n",
            "Epoch 13/20\n",
            "1000/1000 [==============================] - 0s 28us/step - loss: 2.2976 - acc: 0.1130\n",
            "Epoch 14/20\n",
            "1000/1000 [==============================] - 0s 28us/step - loss: 2.2960 - acc: 0.1250\n",
            "Epoch 15/20\n",
            "1000/1000 [==============================] - 0s 31us/step - loss: 2.2972 - acc: 0.1200\n",
            "Epoch 16/20\n",
            "1000/1000 [==============================] - 0s 27us/step - loss: 2.3000 - acc: 0.1210\n",
            "Epoch 17/20\n",
            "1000/1000 [==============================] - 0s 30us/step - loss: 2.2971 - acc: 0.1220\n",
            "Epoch 18/20\n",
            "1000/1000 [==============================] - 0s 26us/step - loss: 2.2969 - acc: 0.1260\n",
            "Epoch 19/20\n",
            "1000/1000 [==============================] - 0s 26us/step - loss: 2.2977 - acc: 0.1210\n",
            "Epoch 20/20\n",
            "1000/1000 [==============================] - 0s 32us/step - loss: 2.2979 - acc: 0.1210\n"
          ],
          "name": "stdout"
        },
        {
          "output_type": "execute_result",
          "data": {
            "text/plain": [
              "<keras.callbacks.History at 0x7f7db8033240>"
            ]
          },
          "metadata": {
            "tags": []
          },
          "execution_count": 9
        }
      ]
    },
    {
      "metadata": {
        "id": "istWckEaUG7X",
        "colab_type": "code",
        "outputId": "4d738eb9-173f-415c-f721-36e3e88d3bb0",
        "colab": {
          "base_uri": "https://localhost:8080/",
          "height": 34
        }
      },
      "cell_type": "code",
      "source": [
        "score = model.evaluate(x_test , y_test, batch_size = 128)"
      ],
      "execution_count": 0,
      "outputs": [
        {
          "output_type": "stream",
          "text": [
            "\r100/100 [==============================] - 0s 646us/step\n"
          ],
          "name": "stdout"
        }
      ]
    },
    {
      "metadata": {
        "id": "pZMF-pN1UQco",
        "colab_type": "code",
        "colab": {}
      },
      "cell_type": "code",
      "source": [
        ""
      ],
      "execution_count": 0,
      "outputs": []
    }
  ]
}